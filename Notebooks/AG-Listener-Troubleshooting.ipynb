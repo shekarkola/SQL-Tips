{
    "metadata": {
        "kernelspec": {
            "name": "powershell",
            "display_name": "PowerShell",
            "language": "powershell"
        },
        "language_info": {
            "name": "powershell",
            "codemirror_mode": "shell",
            "mimetype": "text/x-sh",
            "file_extension": ".ps1"
        }
    },
    "nbformat_minor": 2,
    "nbformat": 4,
    "cells": [
        {
            "cell_type": "markdown",
            "source": [
                "## **AG Listener Connnectivity Troubleshooting**"
            ],
            "metadata": {
                "azdata_cell_guid": "d12a17ce-6bbb-4775-be2c-5a0efde9ad99"
            },
            "attachments": {}
        },
        {
            "cell_type": "markdown",
            "source": [
                "**Verify Current AG Listener parameters in Cluster Node PowerShell**"
            ],
            "metadata": {
                "azdata_cell_guid": "313f7a51-0a9d-44da-a946-4032aed8cd18"
            },
            "attachments": {}
        },
        {
            "cell_type": "code",
            "source": [
                "# Get listener Object name from the result of following command:\r\n",
                "Get-ClusterResource \r\n",
                "\r\n",
                "# Take object name of the listener from above command result and add as follow..\r\n",
                "Get-ClusterResource \"ListenerObjectName\" | Get-ClusterParameter"
            ],
            "metadata": {
                "azdata_cell_guid": "78776993-77cd-4be4-be53-6a88aed75e09",
                "language": "powershell"
            },
            "outputs": [],
            "execution_count": null
        },
        {
            "cell_type": "markdown",
            "source": [
                "By default the **<mark>RegisterAllProvidersIP</mark>** parameter value set to 1 if the listener was created via SSMS, this is good for multi-subnet failover cluster. Since the Distributed Availability Group (DAG) has been introduced, chances of having multi-subnet is very low, and some application (those delcared as LEGACY CLIENT) may face performance slow due to listener connectivity slowness which caused by the default setting  **<mark>RegisterAllProvidersIP=1</mark>**\n",
                "\n",
                "To lean more: [RegisterAllProviderIP](https://learn.microsoft.com/en-us/sql/database-engine/availability-groups/windows/create-or-configure-an-availability-group-listener-sql-server?view=sql-server-ver16#RegisterAllProvidersIP)**,** [HostRecordTTL](https://learn.microsoft.com/en-us/sql/database-engine/availability-groups/windows/create-or-configure-an-availability-group-listener-sql-server?view=sql-server-ver16#HostRecordTTL)\n",
                "\n",
                "Use following PowerShell to set **RegisterAllProvidersIP = 0**"
            ],
            "metadata": {
                "language": "powershell",
                "azdata_cell_guid": "9df4f629-e461-4a9d-9182-cf19a5a4f754"
            },
            "attachments": {}
        },
        {
            "cell_type": "code",
            "source": [
                "#Same as above code-cell if your not sure \"Listener Object\" name, execute first command from above code-cell, which will get all resource details from WSFC\r\n",
                "\r\n",
                "Import-Module FailoverClusters  \r\n",
                "Get-ClusterResource \"ListenerObjectName\" | Set-ClusterParameter RegisterAllProvidersIP 0   \r\n",
                "Get-ClusterResource \"ListenerObjectName\" | Set-ClusterParameter HostRecordTTL 300  \r\n",
                "Stop-ClusterResource \"ListenerObjectName\"  \r\n",
                "Start-ClusterResource \"ListenerObjectName\" \r\n",
                "Start-Clustergroup \"ListenerObjectName\" # This may give error, which can be ignorable, as we can manually bring resource UP using WSFC Consol "
            ],
            "metadata": {
                "language": "powershell",
                "azdata_cell_guid": "912df132-484d-4fd1-9571-1c6917b5eded"
            },
            "outputs": [],
            "execution_count": null
        }
    ]
}