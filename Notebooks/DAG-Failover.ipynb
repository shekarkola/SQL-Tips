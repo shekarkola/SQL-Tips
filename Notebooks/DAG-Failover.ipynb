{
    "metadata": {
        "kernelspec": {
            "name": "SQL",
            "display_name": "SQL",
            "language": "sql"
        },
        "language_info": {
            "name": "sql",
            "version": ""
        }
    },
    "nbformat_minor": 2,
    "nbformat": 4,
    "cells": [
        {
            "cell_type": "markdown",
            "source": [
                "## **DAG Failover**"
            ],
            "metadata": {
                "azdata_cell_guid": "f1c3276a-09ed-4f76-94da-0d4271d41d86"
            },
            "attachments": {}
        },
        {
            "cell_type": "markdown",
            "source": [
                ""
            ],
            "metadata": {
                "azdata_cell_guid": "27efa59a-7cfc-4a9f-b5c9-fb1710d29484"
            }
        }
    ]
}