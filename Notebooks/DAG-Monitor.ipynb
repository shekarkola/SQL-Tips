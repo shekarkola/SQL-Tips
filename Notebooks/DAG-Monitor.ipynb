{
    "metadata": {
        "kernelspec": {
            "name": "SQL",
            "display_name": "SQL",
            "language": "sql"
        },
        "language_info": {
            "name": "sql",
            "version": ""
        }
    },
    "nbformat_minor": 2,
    "nbformat": 4,
    "cells": [
        {
            "cell_type": "markdown",
            "source": [
                "## Monitoering Distributed Availability Groups"
            ],
            "metadata": {
                "azdata_cell_guid": "d0d004f3-0e6a-4867-8b52-5a08e2379fef"
            },
            "attachments": {}
        },
        {
            "cell_type": "markdown",
            "source": [
                "**Current State of DAG,** Following query can be in both the sites"
            ],
            "metadata": {
                "azdata_cell_guid": "a5d6ad74-2be0-42d2-871f-4da54c5bd582"
            },
            "attachments": {}
        },
        {
            "cell_type": "code",
            "source": [
                " select ag.name, ag.is_distributed, ar.replica_server_name, ar.availability_mode_desc, seeding_mode_desc,ars.connected_state_desc, ars.role_desc, \r\n",
                "\t\tars.operational_state_desc, ars.synchronization_health_desc \r\n",
                " from sys.availability_groups ag  \r\n",
                " inner join sys.availability_replicas ar on ag.group_id=ar.group_id\r\n",
                " left  join sys.dm_hadr_availability_replica_states ars\r\n",
                " on ars.replica_id=ar.replica_id\r\n",
                " where ag.is_distributed=1"
            ],
            "metadata": {
                "azdata_cell_guid": "249197d7-f144-4ce7-8be0-65ffe531784b",
                "language": "sql"
            },
            "outputs": [],
            "execution_count": null
        },
        {
            "cell_type": "markdown",
            "source": [
                "Use following T-SQL to See Syncronization status (Focus and compare the **last\\_hardened\\_lsn**)"
            ],
            "metadata": {
                "azdata_cell_guid": "c3587967-0392-40f4-81e9-f91c8eb04d20"
            },
            "attachments": {}
        },
        {
            "cell_type": "code",
            "source": [
                "SELECT ag.name\r\n",
                "       , drs.database_id\r\n",
                "       , db_name(drs.database_id) as database_name\r\n",
                "\t   , drs.last_hardened_lsn\r\n",
                "       , drs.group_id\r\n",
                "       , drs.replica_id\r\n",
                "\t   , ar.replica_server_name\r\n",
                "\t   , ar.endpoint_url\r\n",
                "       , drs.synchronization_state_desc\r\n",
                "\t   , drs.redo_queue_size\r\n",
                "\t   , drs.log_send_rate\r\n",
                "\t   , drs.redo_rate\r\n",
                "FROM sys.dm_hadr_database_replica_states drs \r\n",
                "INNER JOIN sys.availability_groups ag on drs.group_id = ag.group_id\r\n",
                "INNER JOIN sys.availability_replicas ar on drs.replica_id = ar.replica_id\r\n",
                "where ag.is_distributed=1 --- this filter not required in secondary AG\r\n",
                ";"
            ],
            "metadata": {
                "azdata_cell_guid": "a0354fda-709a-4f04-9d64-7c9145477e76",
                "language": "sql"
            },
            "outputs": [],
            "execution_count": null
        }
    ]
}