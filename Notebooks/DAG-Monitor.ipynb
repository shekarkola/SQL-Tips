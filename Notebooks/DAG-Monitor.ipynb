{
    "metadata": {
        "kernelspec": {
            "name": "SQL",
            "display_name": "SQL",
            "language": "sql"
        },
        "language_info": {
            "name": "sql",
            "version": ""
        }
    },
    "nbformat_minor": 2,
    "nbformat": 4,
    "cells": [
        {
            "cell_type": "markdown",
            "source": [
                "## Monitoering Distributed Availability Groups"
            ],
            "metadata": {
                "azdata_cell_guid": "d0d004f3-0e6a-4867-8b52-5a08e2379fef"
            },
            "attachments": {}
        },
        {
            "cell_type": "markdown",
            "source": [
                "**Current State**"
            ],
            "metadata": {
                "azdata_cell_guid": "a5d6ad74-2be0-42d2-871f-4da54c5bd582"
            },
            "attachments": {}
        },
        {
            "cell_type": "code",
            "source": [
                " select ag.name, ag.is_distributed, ar.replica_server_name, ar.availability_mode_desc, seeding_mode_desc,ars.connected_state_desc, ars.role_desc, \r\n",
                "\t\tars.operational_state_desc, ars.synchronization_health_desc \r\n",
                " from sys.availability_groups ag  \r\n",
                " inner join sys.availability_replicas ar on ag.group_id=ar.group_id\r\n",
                " left  join sys.dm_hadr_availability_replica_states ars\r\n",
                " on ars.replica_id=ar.replica_id\r\n",
                " where ag.is_distributed=1"
            ],
            "metadata": {
                "azdata_cell_guid": "249197d7-f144-4ce7-8be0-65ffe531784b",
                "language": "sql"
            },
            "outputs": [],
            "execution_count": null
        }
    ]
}